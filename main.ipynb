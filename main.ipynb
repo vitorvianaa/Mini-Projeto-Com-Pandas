{
 "cells": [
  {
   "cell_type": "markdown",
   "metadata": {},
   "source": [
    "### Importando modulos e base de dados"
   ]
  },
  {
   "cell_type": "code",
   "execution_count": 128,
   "metadata": {},
   "outputs": [],
   "source": [
    "import pandas as pd\n",
    "import openpyxl as op\n",
    "\n",
    "clientes_df = pd.read_csv('CadastroClientes.csv', sep = ';')\n",
    "funcionarios_df = pd.read_csv('CadastroFuncionarios.csv', sep = ';')\n",
    "servicos_df = pd.read_excel('BaseServicosPrestados.xlsx', sheet_name=0) # O pandas pediu a importação do openpyxl para ler o arquivo\n"
   ]
  },
  {
   "cell_type": "markdown",
   "metadata": {},
   "source": [
    "### Tratando dados"
   ]
  },
  {
   "cell_type": "code",
   "execution_count": 129,
   "metadata": {},
   "outputs": [
    {
     "data": {
      "text/html": [
       "<div>\n",
       "<style scoped>\n",
       "    .dataframe tbody tr th:only-of-type {\n",
       "        vertical-align: middle;\n",
       "    }\n",
       "\n",
       "    .dataframe tbody tr th {\n",
       "        vertical-align: top;\n",
       "    }\n",
       "\n",
       "    .dataframe thead th {\n",
       "        text-align: right;\n",
       "    }\n",
       "</style>\n",
       "<table border=\"1\" class=\"dataframe\">\n",
       "  <thead>\n",
       "    <tr style=\"text-align: right;\">\n",
       "      <th></th>\n",
       "      <th>Salario Base</th>\n",
       "      <th>Beneficios</th>\n",
       "      <th>VT</th>\n",
       "      <th>VR</th>\n",
       "      <th>Salario Liquido</th>\n",
       "      <th>Imposto</th>\n",
       "    </tr>\n",
       "  </thead>\n",
       "  <tbody>\n",
       "    <tr>\n",
       "      <th>0</th>\n",
       "      <td>21910</td>\n",
       "      <td>4382.0</td>\n",
       "      <td>242</td>\n",
       "      <td>719.04</td>\n",
       "      <td>16298.04</td>\n",
       "      <td>10955.0</td>\n",
       "    </tr>\n",
       "    <tr>\n",
       "      <th>1</th>\n",
       "      <td>5404</td>\n",
       "      <td>1080.8</td>\n",
       "      <td>154</td>\n",
       "      <td>574.56</td>\n",
       "      <td>4511.36</td>\n",
       "      <td>2702.0</td>\n",
       "    </tr>\n",
       "    <tr>\n",
       "      <th>2</th>\n",
       "      <td>16066</td>\n",
       "      <td>3213.2</td>\n",
       "      <td>154</td>\n",
       "      <td>729.12</td>\n",
       "      <td>12129.32</td>\n",
       "      <td>8033.0</td>\n",
       "    </tr>\n",
       "    <tr>\n",
       "      <th>3</th>\n",
       "      <td>21305</td>\n",
       "      <td>4261.0</td>\n",
       "      <td>220</td>\n",
       "      <td>524.16</td>\n",
       "      <td>15657.66</td>\n",
       "      <td>10652.5</td>\n",
       "    </tr>\n",
       "    <tr>\n",
       "      <th>4</th>\n",
       "      <td>5098</td>\n",
       "      <td>1019.6</td>\n",
       "      <td>176</td>\n",
       "      <td>725.76</td>\n",
       "      <td>4470.36</td>\n",
       "      <td>2549.0</td>\n",
       "    </tr>\n",
       "    <tr>\n",
       "      <th>...</th>\n",
       "      <td>...</td>\n",
       "      <td>...</td>\n",
       "      <td>...</td>\n",
       "      <td>...</td>\n",
       "      <td>...</td>\n",
       "      <td>...</td>\n",
       "    </tr>\n",
       "    <tr>\n",
       "      <th>109</th>\n",
       "      <td>10793</td>\n",
       "      <td>2158.6</td>\n",
       "      <td>242</td>\n",
       "      <td>514.08</td>\n",
       "      <td>8311.18</td>\n",
       "      <td>5396.5</td>\n",
       "    </tr>\n",
       "    <tr>\n",
       "      <th>110</th>\n",
       "      <td>4048</td>\n",
       "      <td>809.6</td>\n",
       "      <td>198</td>\n",
       "      <td>796.32</td>\n",
       "      <td>3827.92</td>\n",
       "      <td>2024.0</td>\n",
       "    </tr>\n",
       "    <tr>\n",
       "      <th>111</th>\n",
       "      <td>24596</td>\n",
       "      <td>4919.2</td>\n",
       "      <td>242</td>\n",
       "      <td>561.12</td>\n",
       "      <td>18020.32</td>\n",
       "      <td>12298.0</td>\n",
       "    </tr>\n",
       "    <tr>\n",
       "      <th>112</th>\n",
       "      <td>5078</td>\n",
       "      <td>1015.6</td>\n",
       "      <td>308</td>\n",
       "      <td>665.28</td>\n",
       "      <td>4527.88</td>\n",
       "      <td>2539.0</td>\n",
       "    </tr>\n",
       "    <tr>\n",
       "      <th>113</th>\n",
       "      <td>15939</td>\n",
       "      <td>3187.8</td>\n",
       "      <td>220</td>\n",
       "      <td>769.44</td>\n",
       "      <td>12146.74</td>\n",
       "      <td>7969.5</td>\n",
       "    </tr>\n",
       "  </tbody>\n",
       "</table>\n",
       "<p>114 rows × 6 columns</p>\n",
       "</div>"
      ],
      "text/plain": [
       "     Salario Base  Beneficios   VT      VR  Salario Liquido  Imposto\n",
       "0           21910      4382.0  242  719.04         16298.04  10955.0\n",
       "1            5404      1080.8  154  574.56          4511.36   2702.0\n",
       "2           16066      3213.2  154  729.12         12129.32   8033.0\n",
       "3           21305      4261.0  220  524.16         15657.66  10652.5\n",
       "4            5098      1019.6  176  725.76          4470.36   2549.0\n",
       "..            ...         ...  ...     ...              ...      ...\n",
       "109         10793      2158.6  242  514.08          8311.18   5396.5\n",
       "110          4048       809.6  198  796.32          3827.92   2024.0\n",
       "111         24596      4919.2  242  561.12         18020.32  12298.0\n",
       "112          5078      1015.6  308  665.28          4527.88   2539.0\n",
       "113         15939      3187.8  220  769.44         12146.74   7969.5\n",
       "\n",
       "[114 rows x 6 columns]"
      ]
     },
     "metadata": {},
     "output_type": "display_data"
    }
   ],
   "source": [
    "import re\n",
    "clientes_df = clientes_df[['Valor Contrato Mensal', 'ID Cliente']] # Deixando somente as colunas que vamos usar no df clientes\n",
    "# No nosso DF funcionario, os valores estão em formato de ST.\n",
    "#Fiz um for na coluna 'Beneficios' , 'VR' e 'Impostos' e retirei todos os caracteres ',' e no lugar coloquei '.'\n",
    "for i, beneficio in enumerate(funcionarios_df['Beneficios']):\n",
    "    funcionarios_df.loc[i, 'Beneficios'] = re.sub(',', '.', funcionarios_df.loc[i,'Beneficios'])\n",
    "\n",
    "for i, VR in enumerate(funcionarios_df['VR']):\n",
    "    funcionarios_df.loc[i, 'VR'] = re.sub(',', '.', funcionarios_df.loc[i,'VR'])\n",
    "\n",
    "for i, imposto in enumerate(funcionarios_df['Impostos']):\n",
    "    funcionarios_df.loc[i, 'Impostos'] = re.sub(',', '.', funcionarios_df.loc[i,'Impostos'])\n",
    "#Depois de substituir as ',' pelo '.', pude transformar os valores que eram do tipo STR -> INT. Agora posso realizar as operações normal\n",
    "impostos = pd.to_numeric(funcionarios_df['Impostos'], downcast = 'integer')\n",
    "salario_base = pd.to_numeric(funcionarios_df['Salario Base'], downcast = 'integer')\n",
    "beneficios = pd.to_numeric(funcionarios_df['Beneficios'], downcast= 'integer')\n",
    "vt = pd.to_numeric(funcionarios_df['VT'], downcast='integer')\n",
    "vr = pd.to_numeric(funcionarios_df['VR'], downcast='integer')\n",
    "salario_funcionarios = pd.concat([salario_base, beneficios, vt,vr], axis=1)\n",
    "salario_funcionarios['Salario Liquido'] = salario_funcionarios.sum(axis=1)\n",
    "salario_funcionarios['Imposto'] = pd.concat([impostos], axis = 1)\n",
    "salario_funcionarios['Salario Liquido'] = salario_funcionarios['Salario Liquido'] - salario_funcionarios['Imposto']\n",
    "display(salario_funcionarios)"
   ]
  },
  {
   "cell_type": "markdown",
   "metadata": {},
   "source": [
    "### 1 - Folha salarial"
   ]
  },
  {
   "cell_type": "code",
   "execution_count": 130,
   "metadata": {},
   "outputs": [
    {
     "name": "stdout",
     "output_type": "stream",
     "text": [
      "O valor total gasto com salarios na empresa é de: R$1179644.22 reais\n",
      "Os 5 maiores salarios da companhia são:\n"
     ]
    },
    {
     "data": {
      "text/plain": [
       "<Axes: >"
      ]
     },
     "execution_count": 130,
     "metadata": {},
     "output_type": "execute_result"
    },
    {
     "data": {
      "image/png": "[encoded data removed]",
      "text/plain": [
       "<Figure size 640x480 with 1 Axes>"
      ]
     },
     "metadata": {},
     "output_type": "display_data"
    }
   ],
   "source": [
    "maiores_salarios = salario_funcionarios['Salario Liquido']\n",
    "maiores_salarios = maiores_salarios.sort_values(ascending=False)\n",
    "salario_total = salario_funcionarios['Salario Liquido'].sum()\n",
    "print(f'O valor total gasto com salarios na empresa é de: R${salario_total:.2f} reais')\n",
    "print('Os 5 maiores salarios da companhia são:')\n",
    "maiores_salarios[:5].plot(kind = 'bar')\n"
   ]
  },
  {
   "cell_type": "markdown",
   "metadata": {},
   "source": [
    "### 2 - Faturamento da Empresa"
   ]
  },
  {
   "cell_type": "code",
   "execution_count": 131,
   "metadata": {},
   "outputs": [
    {
     "data": {
      "text/html": [
       "<div>\n",
       "<style scoped>\n",
       "    .dataframe tbody tr th:only-of-type {\n",
       "        vertical-align: middle;\n",
       "    }\n",
       "\n",
       "    .dataframe tbody tr th {\n",
       "        vertical-align: top;\n",
       "    }\n",
       "\n",
       "    .dataframe thead th {\n",
       "        text-align: right;\n",
       "    }\n",
       "</style>\n",
       "<table border=\"1\" class=\"dataframe\">\n",
       "  <thead>\n",
       "    <tr style=\"text-align: right;\">\n",
       "      <th></th>\n",
       "      <th>Codigo do Servico</th>\n",
       "      <th>ID Funcionário</th>\n",
       "      <th>ID Cliente</th>\n",
       "      <th>Tempo Total de Contrato (Meses)</th>\n",
       "      <th>Valor Contrato Mensal</th>\n",
       "    </tr>\n",
       "  </thead>\n",
       "  <tbody>\n",
       "    <tr>\n",
       "      <th>0</th>\n",
       "      <td>OS0001</td>\n",
       "      <td>67</td>\n",
       "      <td>1</td>\n",
       "      <td>14</td>\n",
       "      <td>540</td>\n",
       "    </tr>\n",
       "    <tr>\n",
       "      <th>1</th>\n",
       "      <td>OS0002</td>\n",
       "      <td>17</td>\n",
       "      <td>2</td>\n",
       "      <td>12</td>\n",
       "      <td>1260</td>\n",
       "    </tr>\n",
       "    <tr>\n",
       "      <th>2</th>\n",
       "      <td>OS0003</td>\n",
       "      <td>116</td>\n",
       "      <td>4</td>\n",
       "      <td>14</td>\n",
       "      <td>2520</td>\n",
       "    </tr>\n",
       "    <tr>\n",
       "      <th>3</th>\n",
       "      <td>OS0004</td>\n",
       "      <td>37</td>\n",
       "      <td>5</td>\n",
       "      <td>8</td>\n",
       "      <td>3510</td>\n",
       "    </tr>\n",
       "    <tr>\n",
       "      <th>4</th>\n",
       "      <td>OS0005</td>\n",
       "      <td>130</td>\n",
       "      <td>6</td>\n",
       "      <td>8</td>\n",
       "      <td>2340</td>\n",
       "    </tr>\n",
       "    <tr>\n",
       "      <th>...</th>\n",
       "      <td>...</td>\n",
       "      <td>...</td>\n",
       "      <td>...</td>\n",
       "      <td>...</td>\n",
       "      <td>...</td>\n",
       "    </tr>\n",
       "    <tr>\n",
       "      <th>232</th>\n",
       "      <td>OS0233</td>\n",
       "      <td>111</td>\n",
       "      <td>315</td>\n",
       "      <td>4</td>\n",
       "      <td>1575</td>\n",
       "    </tr>\n",
       "    <tr>\n",
       "      <th>233</th>\n",
       "      <td>OS0234</td>\n",
       "      <td>124</td>\n",
       "      <td>316</td>\n",
       "      <td>8</td>\n",
       "      <td>3690</td>\n",
       "    </tr>\n",
       "    <tr>\n",
       "      <th>234</th>\n",
       "      <td>OS0235</td>\n",
       "      <td>72</td>\n",
       "      <td>317</td>\n",
       "      <td>6</td>\n",
       "      <td>2385</td>\n",
       "    </tr>\n",
       "    <tr>\n",
       "      <th>235</th>\n",
       "      <td>OS0236</td>\n",
       "      <td>90</td>\n",
       "      <td>319</td>\n",
       "      <td>14</td>\n",
       "      <td>4185</td>\n",
       "    </tr>\n",
       "    <tr>\n",
       "      <th>236</th>\n",
       "      <td>OS0237</td>\n",
       "      <td>22</td>\n",
       "      <td>320</td>\n",
       "      <td>12</td>\n",
       "      <td>2430</td>\n",
       "    </tr>\n",
       "  </tbody>\n",
       "</table>\n",
       "<p>237 rows × 5 columns</p>\n",
       "</div>"
      ],
      "text/plain": [
       "    Codigo do Servico  ID Funcionário  ID Cliente  \\\n",
       "0              OS0001              67           1   \n",
       "1              OS0002              17           2   \n",
       "2              OS0003             116           4   \n",
       "3              OS0004              37           5   \n",
       "4              OS0005             130           6   \n",
       "..                ...             ...         ...   \n",
       "232            OS0233             111         315   \n",
       "233            OS0234             124         316   \n",
       "234            OS0235              72         317   \n",
       "235            OS0236              90         319   \n",
       "236            OS0237              22         320   \n",
       "\n",
       "     Tempo Total de Contrato (Meses)  Valor Contrato Mensal  \n",
       "0                                 14                    540  \n",
       "1                                 12                   1260  \n",
       "2                                 14                   2520  \n",
       "3                                  8                   3510  \n",
       "4                                  8                   2340  \n",
       "..                               ...                    ...  \n",
       "232                                4                   1575  \n",
       "233                                8                   3690  \n",
       "234                                6                   2385  \n",
       "235                               14                   4185  \n",
       "236                               12                   2430  \n",
       "\n",
       "[237 rows x 5 columns]"
      ]
     },
     "metadata": {},
     "output_type": "display_data"
    }
   ],
   "source": [
    "servicos_df = servicos_df.merge(clientes_df, on = 'ID Cliente') # Mesclando as tabelas serviços com clientes\n",
    "display(servicos_df)"
   ]
  },
  {
   "cell_type": "code",
   "execution_count": 132,
   "metadata": {},
   "outputs": [
    {
     "name": "stdout",
     "output_type": "stream",
     "text": [
      "Em 2019, o faturamento total da empresa foi de R$577890.00 reais\n"
     ]
    }
   ],
   "source": [
    "faturamento_total = servicos_df['Valor Contrato Mensal'].sum()\n",
    "print(f'Em 2019, o faturamento total da empresa foi de R${faturamento_total:.2f} reais')"
   ]
  },
  {
   "cell_type": "markdown",
   "metadata": {},
   "source": [
    "### 3 - % Funcionario que Fecharam Contrato"
   ]
  },
  {
   "cell_type": "code",
   "execution_count": 133,
   "metadata": {},
   "outputs": [
    {
     "name": "stdout",
     "output_type": "stream",
     "text": [
      "Na firma, temos um total de 114\n",
      "A % de funcionarios que fecharam um contrato é de 86.84 %\n"
     ]
    }
   ],
   "source": [
    "funcionarios_venderam = servicos_df['ID Funcionário'] # Coloco todos os funcionaro que fizeram pelo menos uma venda em um df de uma coluna\n",
    "funcionarios_venderam = len(funcionarios_venderam.unique()) # A função unique() conta quantos elementos tenho na coluna, ignorando os duplicados\n",
    "total_funcionarios = len(funcionarios_df['ID Funcionário'])\n",
    "print(f'Na firma, temos um total de {total_funcionarios}')\n",
    "print(f'A % de funcionarios que fecharam um contrato é de {(funcionarios_venderam/total_funcionarios) * 100:.2f} %')\n"
   ]
  },
  {
   "cell_type": "markdown",
   "metadata": {},
   "source": [
    "### 4 - Quantidade de Contratos por Área"
   ]
  },
  {
   "cell_type": "code",
   "execution_count": 134,
   "metadata": {},
   "outputs": [
    {
     "data": {
      "text/plain": [
       "<Axes: xlabel='Area'>"
      ]
     },
     "execution_count": 134,
     "metadata": {},
     "output_type": "execute_result"
    },
    {
     "data": {
      "image/png": "[encoded data removed]",
      "text/plain": [
       "<Figure size 640x480 with 1 Axes>"
      ]
     },
     "metadata": {},
     "output_type": "display_data"
    }
   ],
   "source": [
    "#Pegando a area dos vendedores da lista de vendas\n",
    "total_contratos_df = servicos_df[['ID Funcionário']].merge(funcionarios_df[['Area', 'ID Funcionário']], on = 'ID Funcionário') # mesclando duas tabelas\n",
    "total_contratos_df = total_contratos_df['Area'].value_counts()# Contando quantas vezes cada area apareceu\n",
    "total_contratos_df.plot(kind='bar')"
   ]
  },
  {
   "cell_type": "markdown",
   "metadata": {},
   "source": [
    "### 5 - Funcionarios por Área"
   ]
  },
  {
   "cell_type": "code",
   "execution_count": 135,
   "metadata": {},
   "outputs": [
    {
     "name": "stdout",
     "output_type": "stream",
     "text": [
      "Funcionarios por área na empresa:\n"
     ]
    },
    {
     "data": {
      "image/png": "[encoded data removed]",
      "text/plain": [
       "<Figure size 640x480 with 1 Axes>"
      ]
     },
     "metadata": {},
     "output_type": "display_data"
    }
   ],
   "source": [
    "funcionario_area = funcionarios_df[['Area', 'ID Funcionário']]\n",
    "funcionario_area = funcionario_area['Area'].value_counts()\n",
    "funcionario_area.plot(kind='bar')\n",
    "print('Funcionarios por área na empresa:')"
   ]
  },
  {
   "cell_type": "markdown",
   "metadata": {},
   "source": [
    "### 6 - Ticket Médio Mensal"
   ]
  },
  {
   "cell_type": "code",
   "execution_count": 136,
   "metadata": {},
   "outputs": [
    {
     "name": "stdout",
     "output_type": "stream",
     "text": [
      "O ticket médio mensal da empresa é de R$ 2438.35 reais\n"
     ]
    }
   ],
   "source": [
    "servicos_fechados = len(servicos_df['Codigo do Servico']) # Pegando a quantidade de servições feitos\n",
    "total_vendas = servicos_df['Valor Contrato Mensal'].sum() # Pegando o total em vendas\n",
    "ticket_medio_mensal = total_vendas / servicos_fechados\n",
    "print(f'O ticket médio mensal da empresa é de R$ {ticket_medio_mensal:.2f} reais')"
   ]
  }
 ],
 "metadata": {
  "kernelspec": {
   "display_name": "Python 3",
   "language": "python",
   "name": "python3"
  },
  "language_info": {
   "codemirror_mode": {
    "name": "ipython",
    "version": 3
   },
   "file_extension": ".py",
   "mimetype": "text/x-python",
   "name": "python",
   "nbconvert_exporter": "python",
   "pygments_lexer": "ipython3",
   "version": "3.12.2"
  }
 },
 "nbformat": 4,
 "nbformat_minor": 2
}
